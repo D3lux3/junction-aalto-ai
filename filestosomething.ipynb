{
 "cells": [
  {
   "cell_type": "code",
   "execution_count": 95,
   "id": "9825268f-f4c2-4c62-8f20-881009145b80",
   "metadata": {
    "tags": []
   },
   "outputs": [],
   "source": [
    "import pandas as pd\n",
    "\n",
    "# Read the file\n",
    "csv_file = 'output.csv'\n",
    "df = pd.read_csv(csv_file)"
   ]
  },
  {
   "cell_type": "code",
   "execution_count": 96,
   "id": "70c087d1-c28e-4497-8df7-b2f69aba22c6",
   "metadata": {
    "tags": []
   },
   "outputs": [
    {
     "name": "stdout",
     "output_type": "stream",
     "text": [
      "['Title', 'Start Date', 'End Date', 'ATC Code']\n"
     ]
    }
   ],
   "source": [
    "from datetime import datetime, timedelta\n",
    "\n",
    "# Ensure column names are stripped of whitespace\n",
    "df.columns = df.columns.str.strip()\n",
    "\n",
    "# Check the column names after stripping\n",
    "print(df.columns.tolist())\n",
    "\n",
    "# Function to calculate the start week of the year\n",
    "def start_week_of_year(date):\n",
    "    year_start = datetime(date.year, 1, 1)\n",
    "    week_start = year_start - timedelta(days=year_start.weekday())\n",
    "    delta = date - week_start\n",
    "    return (delta.days // 7) + 1\n",
    "\n",
    "# Function to calculate duration in weeks, counting partial weeks as full weeks\n",
    "def duration_in_weeks(start_date, end_date):\n",
    "    delta = end_date - start_date\n",
    "    return (delta.days // 7) + (1 if delta.days % 7 else 0)\n",
    "\n",
    "# Convert 'Start Date' and 'End Date' to datetime objects\n",
    "df['Start Date'] = pd.to_datetime(df['Start Date'])\n",
    "df['End Date'] = pd.to_datetime(df['End Date'])\n",
    "\n",
    "# Calculate the starting week and duration\n",
    "df['Starting Week'] = df['Start Date'].apply(start_week_of_year)\n",
    "df['Duration (weeks)'] = df.apply(lambda row: duration_in_weeks(row['Start Date'], row['End Date']), axis=1)\n",
    "\n",
    "# Extract the first letter from the 'ATC Code' column\n",
    "df['ATC Code'] = df['ATC Code'].str[0]\n",
    "\n",
    "# Save the modified DataFrame to a new CSV file\n",
    "output_file = 'output_modified.csv'\n",
    "df.to_csv(output_file, index=False)\n",
    "\n",
    "#print(\"New columns added and file saved as 'output_modified.csv'\")\n"
   ]
  },
  {
   "cell_type": "code",
   "execution_count": 97,
   "id": "71b23af4-f9a5-4a4b-a379-a59ae91035fa",
   "metadata": {
    "tags": []
   },
   "outputs": [],
   "source": [
    "new_csv_file = 'output_modified.csv'\n",
    "df_new = pd.read_csv(new_csv_file)\n",
    "\n",
    "#print(df_new.head(5))\n",
    "#print(df_new.columns.tolist())"
   ]
  },
  {
   "cell_type": "code",
   "execution_count": 98,
   "id": "a0ea0a3b-5581-454d-96e8-9dbfa14535f9",
   "metadata": {
    "tags": []
   },
   "outputs": [
    {
     "name": "stdout",
     "output_type": "stream",
     "text": [
      "                                 Title Start Date    End Date ATC Code  \\\n",
      "0  Estalis 50 / 250 mikrog / 24 tuntia 2024-04-19  2024-07-26        G   \n",
      "1                  Scalibor vet 0.76 g 2024-04-18  2024-06-15        Q   \n",
      "2                       Elidel 10 mg/g 2024-03-15  2024-06-07        D   \n",
      "3                       Elidel 10 mg/g 2024-02-05  2024-05-03        D   \n",
      "4           Risperidon Ratiopharm 4 mg 2024-04-19  2024-05-02        N   \n",
      "\n",
      "   Starting Week  Duration (weeks)  \n",
      "0             16                14  \n",
      "1             16                 9  \n",
      "2             11                12  \n",
      "3              6                13  \n",
      "4             16                 2  \n"
     ]
    }
   ],
   "source": [
    "# Convert the 'Start Date' column to datetime\n",
    "df_new['Start Date'] = pd.to_datetime(df_new['Start Date'])\n",
    "\n",
    "# Filter rows where 'Start Date' falls within the year 2024\n",
    "df_filtered = df_new[df_new['Start Date'].dt.year == 2024]\n",
    "\n",
    "# Display the first 5 rows of the filtered DataFrame to verify\n",
    "print(df_filtered.head())"
   ]
  },
  {
   "cell_type": "code",
   "execution_count": 99,
   "id": "b352fec9-1004-4a5f-a928-39e701660866",
   "metadata": {
    "tags": []
   },
   "outputs": [],
   "source": [
    "csv_file = 'data_viikko_hva_2024.csv'\n",
    "df = pd.read_csv(csv_file, delimiter=\";\")\n",
    "\n",
    "# Drop rows with NaN in 'ATC_KOODI'\n",
    "df.dropna(subset=['ATC_KOODI'], inplace=True)\n",
    "\n",
    "#print(df.head(5))"
   ]
  },
  {
   "cell_type": "code",
   "execution_count": 74,
   "id": "319948d2-e850-4b21-99a2-9e03e7c2f94d",
   "metadata": {
    "tags": []
   },
   "outputs": [],
   "source": [
    "# Select the specified columns\n",
    "df_modified = df[['VUOSI', 'VIIKKO', 'VAR_N_OSTOT', 'ATC_KOODI']].copy()\n",
    "\n",
    "# Add a new column 'SHORTAGE' with default values of zeros\n",
    "df_modified['SHORTAGE'] = 0\n",
    "\n",
    "# Save the modified DataFrame to a new CSV file\n",
    "output_file = 'data_viikko_hva_2024_modified.csv'\n",
    "df_modified.to_csv(output_file, index=False, sep=';')\n"
   ]
  },
  {
   "cell_type": "code",
   "execution_count": 87,
   "id": "667ae170-71f6-4c86-be4b-3b2b8fa1e5b0",
   "metadata": {
    "tags": []
   },
   "outputs": [],
   "source": [
    "# Load the data from both CSV files\n",
    "df_viikko = pd.read_csv('data_viikko_hva_2024_modified.csv', delimiter=';')\n",
    "df_output = pd.read_csv('output_modified.csv')\n",
    "\n",
    "# Define a function to check if the weeks overlap\n",
    "def overlap(week, start_week, duration):\n",
    "    return (week >= start_week) and (week < start_week + duration)\n",
    "\n",
    "# Go through each row in df_viikko to check for overlaps\n",
    "for index, row in df_viikko.iterrows():\n",
    "    week = row['VIIKKO']\n",
    "    first_letter = row['ATC_KOODI'][0] if pd.notna(row['ATC_KOODI']) else ''\n",
    "\n",
    "    # Count how many codes in df_output have the same first letter and an overlapping week range\n",
    "    overlap_count = df_output.apply(lambda x: x['ATC Code'].startswith(first_letter) and \n",
    "                                    overlap(week, x['Starting Week'], x['Duration (weeks)']), axis=1).sum()\n",
    "\n",
    "    # Update the 'SHORTAGE' column with the overlap count\n",
    "    df_viikko.at[index, 'SHORTAGE'] = overlap_count\n",
    "\n",
    "# Save the updated DataFrame\n",
    "df_viikko.to_csv('data_viikko_hva_2024_modified_with_shortages.csv', index=False, sep=';')\n"
   ]
  },
  {
   "cell_type": "code",
   "execution_count": 100,
   "id": "ad709433-1e80-4e50-aad5-2e73654a2d2d",
   "metadata": {
    "tags": []
   },
   "outputs": [],
   "source": [
    "csv_file = 'data_viikko_hva_2024_modified_with_shortages.csv'\n",
    "df = pd.read_csv(csv_file, delimiter=\";\")\n",
    "\n",
    "#print(df.head(20))"
   ]
  },
  {
   "cell_type": "code",
   "execution_count": 101,
   "id": "5ff80ed2-9dc6-4d8b-9595-096709656612",
   "metadata": {
    "tags": []
   },
   "outputs": [],
   "source": [
    "#df[\"SHORTAGE\"].max()"
   ]
  },
  {
   "cell_type": "code",
   "execution_count": null,
   "id": "cd779e3a-dc6a-4b4d-8ca0-2a9152119474",
   "metadata": {},
   "outputs": [],
   "source": []
  }
 ],
 "metadata": {
  "kernelspec": {
   "display_name": "Python 3",
   "language": "python",
   "name": "python3"
  },
  "language_info": {
   "codemirror_mode": {
    "name": "ipython",
    "version": 3
   },
   "file_extension": ".py",
   "mimetype": "text/x-python",
   "name": "python",
   "nbconvert_exporter": "python",
   "pygments_lexer": "ipython3",
   "version": "3.10.12"
  }
 },
 "nbformat": 4,
 "nbformat_minor": 5
}
