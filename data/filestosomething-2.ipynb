{
 "cells": [
  {
   "cell_type": "code",
   "execution_count": 1,
   "id": "9825268f-f4c2-4c62-8f20-881009145b80",
   "metadata": {
    "tags": []
   },
   "outputs": [
    {
     "name": "stdout",
     "output_type": "stream",
     "text": [
      "                                 Title  Start Date    End Date  ATC Code\n",
      "0  Estalis 50 / 250 mikrog / 24 tuntia  2024-04-19  2024-07-26   G03FA01\n",
      "1                  Scalibor vet 0.76 g  2024-04-18  2024-06-15  QP53AC11\n",
      "2                       Elidel 10 mg/g  2024-03-15  2024-06-07   D11AH02\n",
      "3                       Elidel 10 mg/g  2024-02-05  2024-05-03   D11AH02\n",
      "4           Risperidon Ratiopharm 4 mg  2024-04-19  2024-05-02   N05AX08\n"
     ]
    }
   ],
   "source": [
    "import pandas as pd\n",
    "\n",
    "# Read the file\n",
    "csv_file = 'output.csv'\n",
    "df = pd.read_csv(csv_file)\n",
    "print(df.head())"
   ]
  },
  {
   "cell_type": "code",
   "execution_count": 2,
   "id": "70c087d1-c28e-4497-8df7-b2f69aba22c6",
   "metadata": {
    "tags": []
   },
   "outputs": [
    {
     "name": "stdout",
     "output_type": "stream",
     "text": [
      "['Title', 'Start Date', 'End Date', 'ATC Code']\n"
     ]
    }
   ],
   "source": [
    "from datetime import datetime, timedelta\n",
    "\n",
    "# Ensure column names are stripped of whitespace\n",
    "df.columns = df.columns.str.strip()\n",
    "\n",
    "# Check the column names after stripping\n",
    "print(df.columns.tolist())\n",
    "\n",
    "# Function to calculate the start week of the year\n",
    "def start_week_of_year(date):\n",
    "    year_start = datetime(date.year, 1, 1)\n",
    "    week_start = year_start - timedelta(days=year_start.weekday())\n",
    "    delta = date - week_start\n",
    "    return (delta.days // 7) + 1\n",
    "\n",
    "# Function to calculate duration in weeks, counting partial weeks as full weeks\n",
    "def duration_in_weeks(start_date, end_date):\n",
    "    delta = end_date - start_date\n",
    "    return (delta.days // 7) + (1 if delta.days % 7 else 0)\n",
    "\n",
    "# Convert 'Start Date' and 'End Date' to datetime objects\n",
    "df['Start Date'] = pd.to_datetime(df['Start Date'])\n",
    "df['End Date'] = pd.to_datetime(df['End Date'])\n",
    "\n",
    "# Calculate the starting week and duration\n",
    "df['Starting Week'] = df['Start Date'].apply(start_week_of_year)\n",
    "df['Duration (weeks)'] = df.apply(lambda row: duration_in_weeks(row['Start Date'], row['End Date']), axis=1)\n",
    "\n",
    "# Extract the first letter from the 'ATC Code' column\n",
    "df['ATC Code'] = df['ATC Code'].str[0]\n",
    "\n",
    "# Save the modified DataFrame to a new CSV file\n",
    "output_file = 'output_modified.csv'\n",
    "df.to_csv(output_file, index=False)\n",
    "\n",
    "#print(\"New columns added and file saved as 'output_modified.csv'\")\n"
   ]
  },
  {
   "cell_type": "code",
   "execution_count": 3,
   "id": "71b23af4-f9a5-4a4b-a379-a59ae91035fa",
   "metadata": {
    "tags": []
   },
   "outputs": [
    {
     "name": "stdout",
     "output_type": "stream",
     "text": [
      "                                 Title  Start Date    End Date ATC Code  \\\n",
      "0  Estalis 50 / 250 mikrog / 24 tuntia  2024-04-19  2024-07-26        G   \n",
      "1                  Scalibor vet 0.76 g  2024-04-18  2024-06-15        Q   \n",
      "2                       Elidel 10 mg/g  2024-03-15  2024-06-07        D   \n",
      "3                       Elidel 10 mg/g  2024-02-05  2024-05-03        D   \n",
      "4           Risperidon Ratiopharm 4 mg  2024-04-19  2024-05-02        N   \n",
      "\n",
      "   Starting Week  Duration (weeks)  \n",
      "0             16                14  \n",
      "1             16                 9  \n",
      "2             11                12  \n",
      "3              6                13  \n",
      "4             16                 2  \n"
     ]
    }
   ],
   "source": [
    "new_csv_file = 'output_modified.csv'\n",
    "df_new = pd.read_csv(new_csv_file)\n",
    "\n",
    "print(df_new.head(5))\n",
    "#print(df_new.columns.tolist())"
   ]
  },
  {
   "cell_type": "code",
   "execution_count": 4,
   "id": "a0ea0a3b-5581-454d-96e8-9dbfa14535f9",
   "metadata": {
    "tags": []
   },
   "outputs": [
    {
     "name": "stdout",
     "output_type": "stream",
     "text": [
      "                                 Title Start Date    End Date ATC Code  \\\n",
      "0  Estalis 50 / 250 mikrog / 24 tuntia 2024-04-19  2024-07-26        G   \n",
      "1                  Scalibor vet 0.76 g 2024-04-18  2024-06-15        Q   \n",
      "2                       Elidel 10 mg/g 2024-03-15  2024-06-07        D   \n",
      "3                       Elidel 10 mg/g 2024-02-05  2024-05-03        D   \n",
      "4           Risperidon Ratiopharm 4 mg 2024-04-19  2024-05-02        N   \n",
      "\n",
      "   Starting Week  Duration (weeks)  \n",
      "0             16                14  \n",
      "1             16                 9  \n",
      "2             11                12  \n",
      "3              6                13  \n",
      "4             16                 2  \n"
     ]
    }
   ],
   "source": [
    "# Convert the 'Start Date' column to datetime\n",
    "df_new['Start Date'] = pd.to_datetime(df_new['Start Date'])\n",
    "\n",
    "# Filter rows where 'Start Date' falls within the year 2024\n",
    "df_filtered = df_new[df_new['Start Date'].dt.year == 2024]\n",
    "\n",
    "# Display the first 5 rows of the filtered DataFrame to verify\n",
    "print(df_filtered.head())"
   ]
  },
  {
   "cell_type": "code",
   "execution_count": 5,
   "id": "873f2972-5ff8-4ecc-976a-e096ae15669a",
   "metadata": {
    "tags": []
   },
   "outputs": [
    {
     "data": {
      "text/plain": [
       "0      G\n",
       "1      Q\n",
       "2      D\n",
       "3      D\n",
       "4      N\n",
       "      ..\n",
       "457    P\n",
       "458    A\n",
       "459    A\n",
       "460    R\n",
       "461    R\n",
       "Name: ATC Code, Length: 377, dtype: object"
      ]
     },
     "execution_count": 5,
     "metadata": {},
     "output_type": "execute_result"
    }
   ],
   "source": [
    "df_filtered[\"ATC Code\"].head(-1)"
   ]
  },
  {
   "cell_type": "code",
   "execution_count": 7,
   "id": "b352fec9-1004-4a5f-a928-39e701660866",
   "metadata": {
    "tags": []
   },
   "outputs": [],
   "source": [
    "csv_file = 'data_viikko_hva_2024.csv'\n",
    "df = pd.read_csv(csv_file, delimiter=\";\")\n",
    "\n",
    "# Drop rows with NaN in 'ATC_KOODI'\n",
    "df.dropna(subset=['ATC_KOODI'], inplace=True)\n",
    "\n",
    "#print(df.head(5))"
   ]
  },
  {
   "cell_type": "code",
   "execution_count": 8,
   "id": "fa239042-cf2c-4368-9daf-0a92b8dfbe06",
   "metadata": {
    "tags": []
   },
   "outputs": [
    {
     "name": "stdout",
     "output_type": "stream",
     "text": [
      "    VUOSI  VIIKKO VAR_KUSTANNUS  VAR_N_OSTOT  VAR_N_HENKILOT ATC_KOODI  \\\n",
      "15   2024       1    3971372,03       103169           82463         A   \n",
      "16   2024       1    3818923,51        34065           33655         B   \n",
      "17   2024       1    2481070,90       251366          155969         C   \n",
      "18   2024       1     472134,71        12871           11884         D   \n",
      "19   2024       1    1305629,07        45174           41337         G   \n",
      "\n",
      "                                        ATC_SELITE_FI  \\\n",
      "15  (A) Ruuansulatuselinten sairauksien ja aineenv...   \n",
      "16                           (B) Veritautien lääkkeet   \n",
      "17        (C) Sydän- ja verisuonisairauksien lääkkeet   \n",
      "18                               (D) Ihotautilääkkeet   \n",
      "19  (G) Sukupuoli- ja virtsaelinten sairauksien lä...   \n",
      "\n",
      "                                 ATC_SELITE_SV  \\\n",
      "15  (A) Matsmältningsorgan och ämnesomsättning   \n",
      "16             (B) Blod och blodbildande organ   \n",
      "17                    (C) Hjärta och kretslopp   \n",
      "18                                     (D) Hud   \n",
      "19   (G) Urin- och könsorgan samt könshormoner   \n",
      "\n",
      "                                 ATC_SELITE_EN  ALUEKOODI  ATC_TASO  \\\n",
      "15         (A) Alimentary tract and metabolism         99         1   \n",
      "16          (B) Blood and blood forming organs         99         1   \n",
      "17                   (C) Cardiovascular system         99         1   \n",
      "18                         (D) Dermatologicals         99         1   \n",
      "19  (G) Genito urinary system and sex hormones         99         1   \n",
      "\n",
      "   ALUENIMI_FI    ALUENIMI_SV   ALUENIMI_EN                    UPDATED  \n",
      "15  Koko Suomi  Whole Finland  Hela Finland  2024-04-22 11:51:56.64498  \n",
      "16  Koko Suomi  Whole Finland  Hela Finland  2024-04-22 11:51:56.64498  \n",
      "17  Koko Suomi  Whole Finland  Hela Finland  2024-04-22 11:51:56.64498  \n",
      "18  Koko Suomi  Whole Finland  Hela Finland  2024-04-22 11:51:56.64498  \n",
      "19  Koko Suomi  Whole Finland  Hela Finland  2024-04-22 11:51:56.64498  \n"
     ]
    }
   ],
   "source": [
    "print(df.head(5))"
   ]
  },
  {
   "cell_type": "code",
   "execution_count": 9,
   "id": "319948d2-e850-4b21-99a2-9e03e7c2f94d",
   "metadata": {
    "tags": []
   },
   "outputs": [
    {
     "name": "stdout",
     "output_type": "stream",
     "text": [
      "    VUOSI  VIIKKO  VAR_N_OSTOT ATC_KOODI ATC Code  SHORTAGE\n",
      "15   2024       1       103169         A        A         0\n",
      "16   2024       1        34065         B        B         0\n",
      "17   2024       1       251366         C        C         0\n",
      "18   2024       1        12871         D        D         0\n",
      "19   2024       1        45174         G        G         0\n"
     ]
    }
   ],
   "source": [
    "# kinda problematic\n",
    "# Select the specified columns\n",
    "df_modified = df[['VUOSI', 'VIIKKO', 'VAR_N_OSTOT', 'ATC_KOODI']].copy()\n",
    "\n",
    "# Extract the first letter from the 'ATC_KOODI' column\n",
    "df_modified['ATC Code'] = df_modified['ATC_KOODI'].str[0]\n",
    "\n",
    "# Add a new column 'SHORTAGE' with default values of zeros\n",
    "df_modified['SHORTAGE'] = 0\n",
    "\n",
    "# Save the modified DataFrame to a new CSV file\n",
    "output_file = 'data_viikko_hva_2024_modified.csv'\n",
    "df_modified.to_csv(output_file, index=False, sep=';')\n",
    "\n",
    "print(df_modified.head())"
   ]
  },
  {
   "cell_type": "code",
   "execution_count": 12,
   "id": "ea0297d3-776a-4e2c-9a1d-6eea6fea79aa",
   "metadata": {
    "tags": []
   },
   "outputs": [
    {
     "name": "stdout",
     "output_type": "stream",
     "text": [
      "     VUOSI  VIIKKO ATC_KOODIr  VAR_N_OSTOT\n",
      "0     2024       1          A       721557\n",
      "1     2024       1          B       238097\n",
      "2     2024       1          C      1759364\n",
      "3     2024       1          D        88836\n",
      "4     2024       1          G       316053\n",
      "..     ...     ...        ...          ...\n",
      "205   2024      15          N      2138275\n",
      "206   2024      15          P        23008\n",
      "207   2024      15          R       786589\n",
      "208   2024      15          S       157067\n",
      "209   2024      15          V         3326\n",
      "\n",
      "[210 rows x 4 columns]\n"
     ]
    }
   ],
   "source": [
    "import pandas as pd\n",
    "\n",
    "# Extract the first letter from 'atc_code'\n",
    "df_modified['ATC_KOODIr'] = df_modified['ATC_KOODI'].str[0]\n",
    "\n",
    "# Group by 'dates_y', 'dates_week', and the first letter of 'atc_code', and sum 'amount_of_buys'\n",
    "df_grouped = df_modified.groupby(['VUOSI', 'VIIKKO', 'ATC_KOODIr'])['VAR_N_OSTOT'].sum().reset_index()\n",
    "\n",
    "print(df_grouped)\n"
   ]
  },
  {
   "cell_type": "code",
   "execution_count": 16,
   "id": "7970e4d1-63a0-4b6a-ae66-9b48bf6e8273",
   "metadata": {
    "tags": []
   },
   "outputs": [],
   "source": [
    "df_grouped['ATC Code'] = df_grouped['ATC_KOODIr'].str[0]\n",
    "\n",
    "df_grouped.to_csv('data_viikko_hva_2024_modified_fixed.csv', index=False, sep=';')"
   ]
  },
  {
   "cell_type": "code",
   "execution_count": 20,
   "id": "cd779e3a-dc6a-4b4d-8ca0-2a9152119474",
   "metadata": {
    "tags": []
   },
   "outputs": [],
   "source": [
    "\n",
    "# Load the data from both CSV files\n",
    "df_viikko = pd.read_csv('data_viikko_hva_2024_modified_fixed.csv', delimiter=';')\n",
    "df_output = pd.read_csv('output_modified.csv')\n",
    "\n",
    "# Define a function to check if the weeks overlap\n",
    "def overlap(week, start_week, duration):\n",
    "    # end_week is the last week of the duration, inclusive\n",
    "    end_week = start_week + duration - 1\n",
    "    # The week overlaps if it is within the start and end week range\n",
    "    return week >= start_week and week <= end_week\n",
    "\n",
    "# Iterate over 'df_viikko' and count overlaps with first letters in 'df_output'\n",
    "for index, row in df_viikko.iterrows():\n",
    "    # Get the week number from 'df_viikko'\n",
    "    week = row['VIIKKO']\n",
    "    \n",
    "    # Initialize the overlap count for this row\n",
    "    overlap_count = 0\n",
    "\n",
    "    # Iterate over rows in 'df_output'\n",
    "    for _, output_row in df_output.iterrows():\n",
    "        # Check if the first letter of 'ATC Code' matches and if weeks overlap\n",
    "        if output_row['ATC Code'] == row['ATC_KOODIr'] and overlap(week, output_row['Starting Week'], output_row['Duration (weeks)']):\n",
    "            overlap_count += 1\n",
    "\n",
    "    # Update the 'SHORTAGE' column with the overlap count\n",
    "    df_viikko.at[index, 'SHORTAGE'] = overlap_count\n",
    "\n",
    "# Save the updated DataFrame\n",
    "df_viikko.to_csv('data_viikko_2024_modified_with_shortages_1.csv', index=False, sep=';')\n",
    "\n"
   ]
  },
  {
   "cell_type": "code",
   "execution_count": 19,
   "id": "774d653e-e349-41e2-a6e8-a79502cad11b",
   "metadata": {
    "tags": []
   },
   "outputs": [
    {
     "name": "stdout",
     "output_type": "stream",
     "text": [
      "    VUOSI  VIIKKO ATC_KOODIr  VAR_N_OSTOT ATC Code  SHORTAGE\n",
      "0    2024       1          A       721557        A       0.0\n",
      "1    2024       1          B       238097        B       0.0\n",
      "2    2024       1          C      1759364        C       3.0\n",
      "3    2024       1          D        88836        D       0.0\n",
      "4    2024       1          G       316053        G       0.0\n",
      "5    2024       1          H       215043        H       0.0\n",
      "6    2024       1          J       242862        J       0.0\n",
      "7    2024       1          L        79135        L       1.0\n",
      "8    2024       1          M       297292        M       0.0\n",
      "9    2024       1          N      1510651        N       7.0\n",
      "10   2024       1          P        16315        P       0.0\n",
      "11   2024       1          R       430777        R       0.0\n",
      "12   2024       1          S        91498        S       0.0\n",
      "13   2024       1          V         2395        V       0.0\n",
      "14   2024       2          A      1021557        A       1.0\n",
      "15   2024       2          B       321988        B       0.0\n",
      "16   2024       2          C      2500879        C       4.0\n",
      "17   2024       2          D       124889        D       0.0\n",
      "18   2024       2          G       443477        G       0.0\n",
      "19   2024       2          H       299118        H       0.0\n"
     ]
    }
   ],
   "source": [
    "csv_file = 'data_viikko_2024_modified_with_shortages_1.csv'\n",
    "df = pd.read_csv(csv_file, delimiter=\";\")\n",
    "\n",
    "print(df.head(20))"
   ]
  },
  {
   "cell_type": "code",
   "execution_count": null,
   "id": "96d6bb6c-a2e1-4747-92ab-f10fca801093",
   "metadata": {},
   "outputs": [],
   "source": []
  }
 ],
 "metadata": {
  "kernelspec": {
   "display_name": "Python 3",
   "language": "python",
   "name": "python3"
  },
  "language_info": {
   "codemirror_mode": {
    "name": "ipython",
    "version": 3
   },
   "file_extension": ".py",
   "mimetype": "text/x-python",
   "name": "python",
   "nbconvert_exporter": "python",
   "pygments_lexer": "ipython3",
   "version": "3.10.12"
  }
 },
 "nbformat": 4,
 "nbformat_minor": 5
}
